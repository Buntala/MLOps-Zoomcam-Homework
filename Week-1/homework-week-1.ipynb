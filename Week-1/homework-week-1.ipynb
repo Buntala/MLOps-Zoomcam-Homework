{
 "cells": [
  {
   "cell_type": "code",
   "execution_count": 1,
   "id": "f98990c9-7bb8-4596-a438-3843cafae521",
   "metadata": {},
   "outputs": [],
   "source": [
    "import pandas as pd"
   ]
  },
  {
   "cell_type": "code",
   "execution_count": 2,
   "id": "3aad919e-ea9c-4002-a993-50ad0296a5ff",
   "metadata": {},
   "outputs": [],
   "source": [
    "from sklearn.feature_extraction import DictVectorizer\n",
    "from sklearn.linear_model import LinearRegression\n",
    "from sklearn.metrics import mean_squared_error"
   ]
  },
  {
   "cell_type": "code",
   "execution_count": 3,
   "id": "7b6ec13c-18bc-4014-b8f7-5f9bd009ec19",
   "metadata": {},
   "outputs": [],
   "source": [
    "df_jan = pd.read_parquet('data/fhv_tripdata_2021-01.parquet')\n",
    "df_feb = pd.read_parquet('data/fhv_tripdata_2021-02.parquet')"
   ]
  },
  {
   "cell_type": "markdown",
   "id": "4c8f5b8d-7173-4d8e-b207-67f85f34ebff",
   "metadata": {},
   "source": [
    "## Q1. Downloading the data\n",
    "\n",
    "We'll use [the same NYC taxi dataset](https://www1.nyc.gov/site/tlc/about/tlc-trip-record-data.page),\n",
    "but instead of \"Green Taxi Trip Records\", we'll use \"For-Hire Vehicle Trip Records\".\n",
    "\n",
    "Download the data for January and February 2021.\n",
    "\n",
    "Note that you need \"For-Hire Vehicle Trip Records\", not \"High Volume For-Hire Vehicle Trip Records\".\n",
    "\n",
    "Read the data for January. How many records are there?"
   ]
  },
  {
   "cell_type": "code",
   "execution_count": 4,
   "id": "f749b1c5-7043-40fc-9d8d-6a7ed635214d",
   "metadata": {},
   "outputs": [
    {
     "data": {
      "text/plain": [
       "1154112"
      ]
     },
     "execution_count": 4,
     "metadata": {},
     "output_type": "execute_result"
    }
   ],
   "source": [
    "len(df_jan)"
   ]
  },
  {
   "cell_type": "markdown",
   "id": "2dbd3acc-f59d-48fa-ab65-7b9e5861556b",
   "metadata": {},
   "source": [
    "## Q2. Computing duration\n",
    "\n",
    "Now let's compute the `duration` variable. It should contain the duration of a ride in minutes. \n",
    "\n",
    "What's the average trip duration in January?\n"
   ]
  },
  {
   "cell_type": "code",
   "execution_count": 5,
   "id": "c30c48c7-6ceb-461e-86ca-166426789ab4",
   "metadata": {},
   "outputs": [],
   "source": [
    "df_jan['duration'] = df_jan.dropOff_datetime - df_jan.pickup_datetime \n",
    "df_jan['duration'] = df_jan['duration'].apply(lambda x: x.total_seconds() / 60)"
   ]
  },
  {
   "cell_type": "code",
   "execution_count": 6,
   "id": "e513d287-9c8a-43a0-897e-1574f0ac4a22",
   "metadata": {},
   "outputs": [
    {
     "data": {
      "text/plain": [
       "19.1672240937939"
      ]
     },
     "execution_count": 6,
     "metadata": {},
     "output_type": "execute_result"
    }
   ],
   "source": [
    "df_jan['duration'].mean()"
   ]
  },
  {
   "cell_type": "markdown",
   "id": "28f5e7a9-fdec-42c9-876d-f714be41e631",
   "metadata": {},
   "source": [
    "## Data preparation\n",
    "\n",
    "Check the distribution of the duration variable. There are some outliers. \n",
    "\n",
    "Let's remove them and keep only the records where the duration was between 1 and 60 minutes (inclusive).\n",
    "\n",
    "How many records did you drop? "
   ]
  },
  {
   "cell_type": "code",
   "execution_count": 7,
   "id": "eafb6131-9a2b-4bd6-8d05-549ed5fe41e4",
   "metadata": {},
   "outputs": [],
   "source": [
    "df_jan = df_jan[(df_jan['duration']>=1) & (df_jan['duration']<=60)]\n",
    "#df_feb = data_prep(df_feb)"
   ]
  },
  {
   "cell_type": "markdown",
   "id": "878ab813-680e-47a5-bae0-c9e494eebad2",
   "metadata": {},
   "source": [
    "## Q3. Missing values\n",
    "\n",
    "The features we'll use for our model are the pickup and dropoff location IDs. \n",
    "\n",
    "But they have a lot of missing values there. Let's replace them with \"-1\".\n",
    "\n",
    "What's the fractions of missing values for the pickup location ID? I.e. fraction of \"-1\"s after you filled the NAs."
   ]
  },
  {
   "cell_type": "code",
   "execution_count": 8,
   "id": "b8cba33e-26b6-458f-83a5-5066a93700ac",
   "metadata": {},
   "outputs": [],
   "source": [
    "train_col = ['PUlocationID','DOlocationID']\n",
    "target_col = ['duration']"
   ]
  },
  {
   "cell_type": "code",
   "execution_count": 9,
   "id": "4031a2c5-7f2c-44e1-8729-808748dcbfec",
   "metadata": {},
   "outputs": [
    {
     "data": {
      "text/plain": [
       "True      83.52732770722618 %\n",
       "False    16.472672292773822 %\n",
       "Name: PUlocationID, dtype: object"
      ]
     },
     "execution_count": 9,
     "metadata": {},
     "output_type": "execute_result"
    }
   ],
   "source": [
    "df_jan[train_col] = df_jan[train_col].fillna(-1)\n",
    "(df_jan['PUlocationID']==-1).value_counts(normalize=True).mul(100).astype(str)+' %'"
   ]
  },
  {
   "cell_type": "markdown",
   "id": "620d709e-c000-43db-be5c-952c5a1bae8e",
   "metadata": {},
   "source": [
    "## Q4. One-hot encoding\n",
    "\n",
    "Let's apply one-hot encoding to the pickup and dropoff location IDs. We'll use only these two features for our model. \n",
    "\n",
    "* Turn the dataframe into a list of dictionaries\n",
    "* Fit a dictionary vectorizer \n",
    "* Get a feature matrix from it\n",
    "\n",
    "What's the dimensionality of this matrix? (The number of columns)."
   ]
  },
  {
   "cell_type": "code",
   "execution_count": 10,
   "id": "2f5dc84d-7921-4fb4-90c3-d58d59a588fe",
   "metadata": {},
   "outputs": [
    {
     "data": {
      "text/plain": [
       "(1109826, 525)"
      ]
     },
     "execution_count": 10,
     "metadata": {},
     "output_type": "execute_result"
    }
   ],
   "source": [
    "df_jan[train_col]= df_jan[train_col].astype(str)\n",
    "dict_values = df_jan[train_col].to_dict(orient='records')\n",
    "dv = DictVectorizer()\n",
    "\n",
    "X_train = dv.fit_transform(dict_values)\n",
    "X_train.shape"
   ]
  },
  {
   "cell_type": "markdown",
   "id": "5c695720-8262-4f7c-bd8a-606a1eae81ac",
   "metadata": {},
   "source": [
    "## Q5. Training a model\n",
    "\n",
    "Now let's use the feature matrix from the previous step to train a model. \n",
    "\n",
    "* Train a plain linear regression model with default parameters \n",
    "* Calculate the RMSE of the model on the training data\n",
    "\n",
    "What's the RMSE on train?\n"
   ]
  },
  {
   "cell_type": "code",
   "execution_count": 11,
   "id": "bce6c653-91ab-48c4-bee1-b3c41f699a96",
   "metadata": {},
   "outputs": [
    {
     "data": {
      "text/plain": [
       "10.528519107213159"
      ]
     },
     "execution_count": 11,
     "metadata": {},
     "output_type": "execute_result"
    }
   ],
   "source": [
    "y_train = df_jan[target_col].values\n",
    "model = LinearRegression()\n",
    "model.fit(X_train,y_train)\n",
    "\n",
    "y_pred = model.predict(X_train)\n",
    "\n",
    "mean_squared_error(y_train,y_pred,squared=False)"
   ]
  },
  {
   "cell_type": "markdown",
   "id": "2c1d171e-db49-4707-ab6d-35222413f0d6",
   "metadata": {},
   "source": [
    "## Q6. Evaluating the model\n",
    "\n",
    "Now let's apply this model to the validation dataset (Feb 2021). \n",
    "\n",
    "What's the RMSE on validation?"
   ]
  },
  {
   "cell_type": "code",
   "execution_count": 19,
   "id": "9d8d071f-37e3-4309-8bef-905a991ec64b",
   "metadata": {},
   "outputs": [
    {
     "name": "stderr",
     "output_type": "stream",
     "text": [
      "/tmp/ipykernel_9338/391501669.py:7: SettingWithCopyWarning: \n",
      "A value is trying to be set on a copy of a slice from a DataFrame.\n",
      "Try using .loc[row_indexer,col_indexer] = value instead\n",
      "\n",
      "See the caveats in the documentation: https://pandas.pydata.org/pandas-docs/stable/user_guide/indexing.html#returning-a-view-versus-a-copy\n",
      "  df[train_col] = df[train_col].astype(str)\n"
     ]
    }
   ],
   "source": [
    "def data_prep_w(df):\n",
    "    df['duration'] = df.dropOff_datetime - df.pickup_datetime\n",
    "    df.duration = df.duration.apply(lambda td: td.total_seconds() / 60)\n",
    "    \n",
    "    df = df[(df['duration']>=1) & (df['duration']<=60)]\n",
    "    df[train_col] = df[train_col].apply(lambda x: x.fillna(-1))\n",
    "    train_col = ['PUlocationID','DOlocationID']\n",
    "    df[train_col] = df[train_col].astype(str)\n",
    "    return df\n",
    "\n",
    "def one_hot(df,enc):\n",
    "    train_col = ['PUlocationID','DOlocationID']\n",
    "    dict_values = df[train_col].to_dict(orient='records')\n",
    "    X = enc.transform(dict_values)\n",
    "    #print(X.shape)\n",
    "    return X\n",
    "\n",
    "df_feb = pd.read_parquet('data/fhv_tripdata_2021-02.parquet')\n",
    "df_feb = data_prep(df_feb)\n"
   ]
  },
  {
   "cell_type": "code",
   "execution_count": 21,
   "id": "18aefbef-1764-437a-9e6a-d9694dcc5c34",
   "metadata": {},
   "outputs": [
    {
     "data": {
      "text/plain": [
       "11.01428321291995"
      ]
     },
     "execution_count": 21,
     "metadata": {},
     "output_type": "execute_result"
    }
   ],
   "source": [
    "y_val = df_feb[target_col].values\n",
    "X_val = dv.transform(dict_values)\n",
    "\n",
    "y_pred = model.predict(X_val)\n",
    "mean_squared_error(y_val,y_pred,squared=False)\n"
   ]
  },
  {
   "cell_type": "code",
   "execution_count": 102,
   "id": "c42c97bc-509b-40f9-88ff-3a7b0551932f",
   "metadata": {},
   "outputs": [
    {
     "name": "stdout",
     "output_type": "stream",
     "text": [
      "        dispatching_base_num     pickup_datetime    dropOff_datetime  \\\n",
      "1            B00021          2021-02-01 00:55:40 2021-02-01 01:06:20   \n",
      "2            B00021          2021-02-01 00:14:03 2021-02-01 00:28:37   \n",
      "3            B00021          2021-02-01 00:27:48 2021-02-01 00:35:45   \n",
      "4                     B00037 2021-02-01 00:12:50 2021-02-01 00:26:38   \n",
      "5                     B00037 2021-02-01 00:00:37 2021-02-01 00:09:35   \n",
      "...                      ...                 ...                 ...   \n",
      "1037687               B03282 2021-02-28 23:01:16 2021-02-28 23:14:48   \n",
      "1037688               B03282 2021-02-28 23:36:10 2021-02-28 23:47:38   \n",
      "1037689      B03285          2021-02-28 23:18:36 2021-02-28 23:43:59   \n",
      "1037690      B03285          2021-02-28 23:26:34 2021-02-28 23:44:37   \n",
      "1037691      B03285          2021-02-28 23:24:00 2021-02-28 23:40:00   \n",
      "\n",
      "        PUlocationID DOlocationID SR_Flag Affiliated_base_number   duration  \n",
      "1              173.0         82.0    None        B00021           10.666667  \n",
      "2              173.0         56.0    None        B00021           14.566667  \n",
      "3               82.0        129.0    None        B00021            7.950000  \n",
      "4                nan        225.0    None                 B00037  13.800000  \n",
      "5                nan         61.0    None                 B00037   8.966667  \n",
      "...              ...          ...     ...                    ...        ...  \n",
      "1037687          nan         31.0    None                 B01717  13.533333  \n",
      "1037688          nan        169.0    None                 B01717  11.466667  \n",
      "1037689         28.0        171.0    None        B03285           25.383333  \n",
      "1037690         16.0        252.0    None        B03285           18.050000  \n",
      "1037691        171.0        135.0    None        B03285           16.000000  \n",
      "\n",
      "[990113 rows x 8 columns]\n"
     ]
    }
   ],
   "source": [
    "df_"
   ]
  },
  {
   "cell_type": "code",
   "execution_count": 106,
   "id": "a2570108-4b48-4c8a-85c8-bb264ce64cb2",
   "metadata": {},
   "outputs": [],
   "source": [
    "def data_prep(df):\n",
    "    df['duration'] = df.dropOff_datetime - df.pickup_datetime \n",
    "    df['duration'] = df['duration'].apply(lambda x: x.total_seconds() / 60)\n",
    "    df = df[(df['duration']>=1) & (df['duration']<=60)]\n",
    "    \n",
    "    train_co = ['PUlocationID','DOlocationID']\n",
    "    df.loc[:,train_co] = df[train_co].fillna(-1)\n",
    "    return df\n",
    "\n",
    "def one_hot(df,enc,train=True):\n",
    "    df[train_col] = df[train_col].astype(str)\n",
    "    dict_values = df[train_col].to_dict(orient='records')\n",
    "    if train:\n",
    "        X = enc.fit_transform(dict_values)\n",
    "    else:\n",
    "        X = enc.transform(dict_values)\n",
    "    return X\n"
   ]
  },
  {
   "cell_type": "code",
   "execution_count": 142,
   "id": "ae4a0b28-0109-475c-a052-17ade854d5eb",
   "metadata": {},
   "outputs": [],
   "source": [
    "df_feb"
   ]
  },
  {
   "cell_type": "code",
   "execution_count": 138,
   "id": "0c441c66-72ee-4517-bfec-966d511fd78f",
   "metadata": {},
   "outputs": [
    {
     "name": "stdout",
     "output_type": "stream",
     "text": [
      "None\n",
      "        dispatching_base_num     pickup_datetime    dropOff_datetime  \\\n",
      "1            B00021          2021-02-01 00:55:40 2021-02-01 01:06:20   \n",
      "2            B00021          2021-02-01 00:14:03 2021-02-01 00:28:37   \n",
      "3            B00021          2021-02-01 00:27:48 2021-02-01 00:35:45   \n",
      "4                     B00037 2021-02-01 00:12:50 2021-02-01 00:26:38   \n",
      "5                     B00037 2021-02-01 00:00:37 2021-02-01 00:09:35   \n",
      "...                      ...                 ...                 ...   \n",
      "1037687               B03282 2021-02-28 23:01:16 2021-02-28 23:14:48   \n",
      "1037688               B03282 2021-02-28 23:36:10 2021-02-28 23:47:38   \n",
      "1037689      B03285          2021-02-28 23:18:36 2021-02-28 23:43:59   \n",
      "1037690      B03285          2021-02-28 23:26:34 2021-02-28 23:44:37   \n",
      "1037691      B03285          2021-02-28 23:24:00 2021-02-28 23:40:00   \n",
      "\n",
      "         PUlocationID  DOlocationID SR_Flag Affiliated_base_number   duration  \n",
      "1                  -1            -1    None        B00021           10.666667  \n",
      "2                  -1            -1    None        B00021           14.566667  \n",
      "3                  -1            -1    None        B00021            7.950000  \n",
      "4                  -1            -1    None                 B00037  13.800000  \n",
      "5                  -1            -1    None                 B00037   8.966667  \n",
      "...               ...           ...     ...                    ...        ...  \n",
      "1037687            -1            -1    None                 B01717  13.533333  \n",
      "1037688            -1            -1    None                 B01717  11.466667  \n",
      "1037689            -1            -1    None        B03285           25.383333  \n",
      "1037690            -1            -1    None        B03285           18.050000  \n",
      "1037691            -1            -1    None        B03285           16.000000  \n",
      "\n",
      "[990113 rows x 8 columns]\n"
     ]
    },
    {
     "name": "stderr",
     "output_type": "stream",
     "text": [
      "/tmp/ipykernel_2213/2386982711.py:7: SettingWithCopyWarning: \n",
      "A value is trying to be set on a copy of a slice from a DataFrame.\n",
      "Try using .loc[row_indexer,col_indexer] = value instead\n",
      "\n",
      "See the caveats in the documentation: https://pandas.pydata.org/pandas-docs/stable/user_guide/indexing.html#returning-a-view-versus-a-copy\n",
      "  df.loc[:,train_co] = -1\n"
     ]
    }
   ],
   "source": [
    "def data_prep(df):\n",
    "    df['duration'] = df.dropOff_datetime - df.pickup_datetime \n",
    "    df['duration'] = df['duration'].apply(lambda x: x.total_seconds() / 60)\n",
    "    df = df[(df['duration']>=1) & (df['duration']<=60)]\n",
    "    \n",
    "    train_co = ['PUlocationID','DOlocationID']\n",
    "    df.loc[:,train_co] = df[train_co].fillna(-1)\n",
    "    return df\n",
    "print(data_prep(df_feb))"
   ]
  },
  {
   "cell_type": "code",
   "execution_count": 126,
   "id": "2e9704cf-a2f9-478e-8756-e32784a952e9",
   "metadata": {},
   "outputs": [
    {
     "data": {
      "text/html": [
       "<div>\n",
       "<style scoped>\n",
       "    .dataframe tbody tr th:only-of-type {\n",
       "        vertical-align: middle;\n",
       "    }\n",
       "\n",
       "    .dataframe tbody tr th {\n",
       "        vertical-align: top;\n",
       "    }\n",
       "\n",
       "    .dataframe thead th {\n",
       "        text-align: right;\n",
       "    }\n",
       "</style>\n",
       "<table border=\"1\" class=\"dataframe\">\n",
       "  <thead>\n",
       "    <tr style=\"text-align: right;\">\n",
       "      <th></th>\n",
       "      <th>PUlocationID</th>\n",
       "      <th>DOlocationID</th>\n",
       "    </tr>\n",
       "  </thead>\n",
       "  <tbody>\n",
       "    <tr>\n",
       "      <th>0</th>\n",
       "      <td>-1.0</td>\n",
       "      <td>-1.0</td>\n",
       "    </tr>\n",
       "    <tr>\n",
       "      <th>1</th>\n",
       "      <td>173.0</td>\n",
       "      <td>82.0</td>\n",
       "    </tr>\n",
       "    <tr>\n",
       "      <th>2</th>\n",
       "      <td>173.0</td>\n",
       "      <td>56.0</td>\n",
       "    </tr>\n",
       "    <tr>\n",
       "      <th>3</th>\n",
       "      <td>82.0</td>\n",
       "      <td>129.0</td>\n",
       "    </tr>\n",
       "    <tr>\n",
       "      <th>4</th>\n",
       "      <td>-1.0</td>\n",
       "      <td>225.0</td>\n",
       "    </tr>\n",
       "    <tr>\n",
       "      <th>...</th>\n",
       "      <td>...</td>\n",
       "      <td>...</td>\n",
       "    </tr>\n",
       "    <tr>\n",
       "      <th>1037687</th>\n",
       "      <td>-1.0</td>\n",
       "      <td>31.0</td>\n",
       "    </tr>\n",
       "    <tr>\n",
       "      <th>1037688</th>\n",
       "      <td>-1.0</td>\n",
       "      <td>169.0</td>\n",
       "    </tr>\n",
       "    <tr>\n",
       "      <th>1037689</th>\n",
       "      <td>28.0</td>\n",
       "      <td>171.0</td>\n",
       "    </tr>\n",
       "    <tr>\n",
       "      <th>1037690</th>\n",
       "      <td>16.0</td>\n",
       "      <td>252.0</td>\n",
       "    </tr>\n",
       "    <tr>\n",
       "      <th>1037691</th>\n",
       "      <td>171.0</td>\n",
       "      <td>135.0</td>\n",
       "    </tr>\n",
       "  </tbody>\n",
       "</table>\n",
       "<p>1037692 rows × 2 columns</p>\n",
       "</div>"
      ],
      "text/plain": [
       "         PUlocationID  DOlocationID\n",
       "0                -1.0          -1.0\n",
       "1               173.0          82.0\n",
       "2               173.0          56.0\n",
       "3                82.0         129.0\n",
       "4                -1.0         225.0\n",
       "...               ...           ...\n",
       "1037687          -1.0          31.0\n",
       "1037688          -1.0         169.0\n",
       "1037689          28.0         171.0\n",
       "1037690          16.0         252.0\n",
       "1037691         171.0         135.0\n",
       "\n",
       "[1037692 rows x 2 columns]"
      ]
     },
     "execution_count": 126,
     "metadata": {},
     "output_type": "execute_result"
    }
   ],
   "source": [
    "df_feb.loc[:,train_col].fillna(-1)\n"
   ]
  },
  {
   "cell_type": "code",
   "execution_count": null,
   "id": "54948036-8530-4578-9e16-2a4501b19687",
   "metadata": {},
   "outputs": [],
   "source": []
  },
  {
   "cell_type": "code",
   "execution_count": null,
   "id": "eaaadde7-af42-43e7-bdc5-76a19307482a",
   "metadata": {},
   "outputs": [],
   "source": []
  }
 ],
 "metadata": {
  "kernelspec": {
   "display_name": "Python 3 (ipykernel)",
   "language": "python",
   "name": "python3"
  },
  "language_info": {
   "codemirror_mode": {
    "name": "ipython",
    "version": 3
   },
   "file_extension": ".py",
   "mimetype": "text/x-python",
   "name": "python",
   "nbconvert_exporter": "python",
   "pygments_lexer": "ipython3",
   "version": "3.9.12"
  }
 },
 "nbformat": 4,
 "nbformat_minor": 5
}
